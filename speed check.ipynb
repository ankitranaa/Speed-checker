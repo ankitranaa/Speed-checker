{
 "cells": [
  {
   "cell_type": "code",
   "execution_count": 6,
   "metadata": {},
   "outputs": [],
   "source": [
    "import matplotlib.pyplot as plt\n",
    "import time as t"
   ]
  },
  {
   "cell_type": "code",
   "execution_count": 7,
   "metadata": {},
   "outputs": [
    {
     "name": "stdout",
     "output_type": "stream",
     "text": [
      "This program is to check your typing speed. write the word \"Programming\" 5 times and as fast as you can\n",
      "Press enter to continue\n",
      "Type the word programing\n",
      "Type the word programming\n",
      "Type the word programming\n",
      "Type the word programming\n",
      "Type the word programing\n",
      "You made  2 mistakes\n",
      "Now let's see your evalution\n"
     ]
    },
    {
     "data": {
      "text/plain": [
       "Text(0.5, 1.0, 'Your Evaluation')"
      ]
     },
     "execution_count": 7,
     "metadata": {},
     "output_type": "execute_result"
    },
    {
     "data": {
      "image/png": "[encoded data removed]",
      "text/plain": [
       "<Figure size 432x288 with 1 Axes>"
      ]
     },
     "metadata": {
      "needs_background": "light"
     },
     "output_type": "display_data"
    }
   ],
   "source": [
    "mistakes=0\n",
    "times=[]\n",
    "print('This program is to check your typing speed. write the word \"Programming\" 5 times and as fast as you can')\n",
    "input(\"Press enter to continue\")\n",
    "\n",
    "while len(times)<5:\n",
    "    start=t.time()\n",
    "    word=input(\"Type the word \")\n",
    "    end=t.time()\n",
    "    time_elapsed= end - start\n",
    "    times.append(time_elapsed)\n",
    "    if (word.lower()!=\"programming\"):\n",
    "        mistakes+=1\n",
    "\n",
    "print(\"You made \", mistakes, \"mistakes\")\n",
    "print(\"Now let's see your evalution\")\n",
    "t.sleep(3)\n",
    "x=[1,2,3,4,5]\n",
    "y=times\n",
    "plt.plot(x,y)\n",
    "\n",
    "plt.bar(x,y)\n",
    "plt.ylabel(\"Time in seconds\")\n",
    "plt.xlabel(\"Attempts\")\n",
    "plt.title(\"Your Evaluation\")\n"
   ]
  },
  {
   "cell_type": "code",
   "execution_count": null,
   "metadata": {},
   "outputs": [],
   "source": []
  },
  {
   "cell_type": "code",
   "execution_count": null,
   "metadata": {},
   "outputs": [],
   "source": []
  }
 ],
 "metadata": {
  "kernelspec": {
   "display_name": "Python 3",
   "language": "python",
   "name": "python3"
  },
  "language_info": {
   "codemirror_mode": {
    "name": "ipython",
    "version": 3
   },
   "file_extension": ".py",
   "mimetype": "text/x-python",
   "name": "python",
   "nbconvert_exporter": "python",
   "pygments_lexer": "ipython3",
   "version": "3.7.6"
  }
 },
 "nbformat": 4,
 "nbformat_minor": 4
}
